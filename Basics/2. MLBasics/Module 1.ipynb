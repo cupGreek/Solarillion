{
 "cells": [
  {
   "cell_type": "markdown",
   "metadata": {},
   "source": [
    "# Machine Learning Basics\n",
    "In this module, you'll be acquiring and handling datasets. You will be using the Cinema Data, Salary Data and Reviews Data for the tasks in this module. <br> <br>\n",
    "**Pipeline:**\n",
    "* Acquiring the data\n",
    "* Handling files and formats\n",
    "* Data Analysis\n",
    "* Prediction\n",
    "* Analysing results"
   ]
  },
  {
   "cell_type": "markdown",
   "metadata": {},
   "source": [
    "## Task 1 - Data Acquisition\n",
    "* Retrieve the CinemaData dataset from Firebase, convert it to a CSV and save it in the 'Data' folder as 'CinemaData.csv'. You may use shell scripts, other packages and any other resources you require to do this. The database can be accessed with a HTTP request, and is located at this link: <br> https://sfmlbasics.firebaseio.com/CinemaData.json\n",
    "* Using `wget`, download the 'SalaryData.txt' and save it in the 'Data' folder. Convert it to a CSV named 'SalaryData.csv' and save it in the same folder. It is avaliable at this link: <br>\n",
    "http://bit.ly/MLSalaryData"
   ]
  },
  {
   "cell_type": "code",
   "execution_count": null,
   "metadata": {},
   "outputs": [],
   "source": [
    "from firebase import firebase\n",
    "import pandas as pd\n",
    "\n",
    "firebase = firebase.FirebaseApplication('https://sfmlbasics.firebaseio.com/CinemaData.json')\n",
    "result = firebase.get('/', None)\n",
    "\n",
    "data = pd.DataFrame(result['CinemaData'])\n",
    "data.to_csv('/home/cupgreek/Documents/ML_Assignments/Data/CinemaData.csv')"
   ]
  },
  {
   "cell_type": "code",
   "execution_count": null,
   "metadata": {},
   "outputs": [],
   "source": [
    "import wget\n",
    "url = 'http://bit.ly/MLSalaryData'\n",
    "dest = '/home/cupgreek/Documents/ML_Assignments/Data'\n",
    "wget.download(url,dest)\n"
   ]
  },
  {
   "cell_type": "code",
   "execution_count": null,
   "metadata": {},
   "outputs": [],
   "source": [
    "import pandas as pd\n",
    "file = open(\"/home/cupgreek/Documents/ML_Assignments/Data/MLSalaryData\")\n",
    "\n",
    "data = file.read()\n",
    "data = data.split('\\n')\n",
    "for i in range(len(data)):\n",
    "    data[i] = data[i].split()\n",
    "\n",
    "temp = dict()\n",
    "temp[data[0][0]] = []\n",
    "temp[data[0][1]] = []\n",
    "\n",
    "for i in range(1,len(data)):\n",
    "    temp[data[0][0]].append(data[i][0])\n",
    "    temp[data[0][1]].append(data[i][1])\n",
    "    \n",
    "data = pd.DataFrame(temp)\n",
    "data.to_csv(\"/home/cupgreek/Documents/ML_Assignments/Data/SalaryData.csv\",index = False)"
   ]
  },
  {
   "cell_type": "markdown",
   "metadata": {},
   "source": [
    "## Task 2 - Dataset Handling\n",
    "* You can find the Reviews Data in a RAR file in the 'Data' directory. Extract this dataset and use it for this module.\n",
    "\n",
    "* The dataset contains positive and negative movie reviews. The files 'Positive_Reviews.txt' and 'Negative_Reviews.txt' contain names of files having positive and negative reviews respectively. Create two directories ‘pos’ and ‘neg’, and segregate the reviews accordingly into the two directories.\n",
    "\n",
    "* Load ‘cv000_29590.csv’ and report the number of words present in the first column.\n",
    "\n",
    "* Find the number of unique words in the first column. For this task, ignore punctuations, that is, punctuations are not considered as a word or a part of it.\n",
    "\n",
    "* Lookups: OS module, String functions"
   ]
  },
  {
   "cell_type": "code",
   "execution_count": null,
   "metadata": {},
   "outputs": [],
   "source": [
    "import rarfile\n",
    "rf = rarfile.RarFile('/home/cupgreek/Documents/ML_Assignments/Data/Reviews.rar')\n",
    "rf.extractall(path = '/home/cupgreek/Documents/ML_Assignments/Data' )"
   ]
  },
  {
   "cell_type": "code",
   "execution_count": null,
   "metadata": {},
   "outputs": [],
   "source": [
    "import os\n",
    "import shutil\n",
    "\n",
    "os.mkdir('/home/cupgreek/Documents/ML_Assignments/Data/pos')\n",
    "os.mkdir('/home/cupgreek/Documents/ML_Assignments/Data/neg')"
   ]
  },
  {
   "cell_type": "code",
   "execution_count": null,
   "metadata": {},
   "outputs": [],
   "source": [
    "os.rename('/home/cupgreek/Documents/ML_Assignments/Data/Assignment_1_a/Positive_Reviews.txt','/home/cupgreek/Documents/ML_Assignments/Data/pos/Positive_Reviews.txt')\n",
    "os.rename('/home/cupgreek/Documents/ML_Assignments/Data/Assignment_1_a/Negative_Reviews.txt','/home/cupgreek/Documents/ML_Assignments/Data/neg/Negative_Reviews.txt')"
   ]
  },
  {
   "cell_type": "code",
   "execution_count": null,
   "metadata": {},
   "outputs": [],
   "source": [
    "pos = open('/home/cupgreek/Documents/ML_Assignments/Data/pos/Positive_Reviews.txt')\n",
    "neg = open('/home/cupgreek/Documents/ML_Assignments/Data/neg/Negative_Reviews.txt')"
   ]
  },
  {
   "cell_type": "code",
   "execution_count": null,
   "metadata": {},
   "outputs": [],
   "source": [
    "temp = pos.read()\n",
    "temp = temp.split('\\'')\n",
    "file = []\n",
    "for i in range(len(temp)):\n",
    "    if i%2!=0:\n",
    "        file.append(temp[i])\n",
    "for filename in file:\n",
    "    os.rename('/home/cupgreek/Documents/ML_Assignments/Data/Assignment_1_a/Reviews/'+filename,'/home/cupgreek/Documents/ML_Assignments/Data/pos/'+filename)\n",
    "if 'cv000_29590.txt' in file:\n",
    "        temp1 = 'pos'\n",
    "        \n",
    "temp = neg.read()\n",
    "temp = temp.split('\\'')\n",
    "file = []\n",
    "for i in range(len(temp)):\n",
    "    if i%2!=0:\n",
    "        file.append(temp[i])\n",
    "for filename in file:\n",
    "    os.rename('/home/cupgreek/Documents/ML_Assignments/Data/Assignment_1_a/Reviews/'+filename,'/home/cupgreek/Documents/ML_Assignments/Data/neg/'+filename)\n",
    "if 'cv000_29590.txt' in file:\n",
    "    temp1 = 'neg'"
   ]
  },
  {
   "cell_type": "code",
   "execution_count": null,
   "metadata": {},
   "outputs": [],
   "source": [
    "import string\n",
    "import numpy as np\n",
    "review = open('/home/cupgreek/Documents/ML_Assignments/Data/pos/cv000_29590.txt')\n",
    "data = review.read()\n",
    "data = data.split('\\n')\n",
    "temp = []\n",
    "for i in data:\n",
    "    i = i.split()\n",
    "    if len(i)>0:\n",
    "        temp.append(i[0])\n",
    "temp = set(temp)\n",
    "print(\"No. Of Uniques words in first column is: \"+str(len(temp)))\n",
    "review.close()"
   ]
  },
  {
   "cell_type": "code",
   "execution_count": null,
   "metadata": {},
   "outputs": [],
   "source": [
    "review = open('/home/cupgreek/Documents/ML_Assignments/Data/pos/cv000_29590.txt')\n",
    "data = review.read()\n",
    "data = data.split()\n",
    "file = []\n",
    "for i in data:\n",
    "    if i not in string.punctuation and len(i)>1:\n",
    "        file.append(i)   \n",
    "print(\"No. Of. words in the file is \"+str(len(file)))"
   ]
  }
 ],
 "metadata": {
  "kernelspec": {
   "display_name": "Python 3",
   "language": "python",
   "name": "python3"
  },
  "language_info": {
   "codemirror_mode": {
    "name": "ipython",
    "version": 3
   },
   "file_extension": ".py",
   "mimetype": "text/x-python",
   "name": "python",
   "nbconvert_exporter": "python",
   "pygments_lexer": "ipython3",
   "version": "3.7.4"
  }
 },
 "nbformat": 4,
 "nbformat_minor": 2
}
