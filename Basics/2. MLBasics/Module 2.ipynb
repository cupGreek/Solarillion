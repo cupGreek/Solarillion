{
 "cells": [
  {
   "cell_type": "markdown",
   "metadata": {},
   "source": [
    "# Machine Learning Basics\n",
    "In this module, you'll be analysing a dataset. You will be using the Cinema Data for the tasks in this module. <br> <br>\n",
    "**Pipeline:**\n",
    "* Acquiring the data - done\n",
    "* Handling files and formats - done\n",
    "* Data Analysis\n",
    "* Prediction\n",
    "* Analysing results"
   ]
  },
  {
   "cell_type": "markdown",
   "metadata": {},
   "source": [
    "## Task 1 - Plotting\n",
    "* Plot the values of occupancy percentage versus number of weeks since release, for all movies in the dataset. \n",
    "* Plot the number of other releases in the week versus occupancy percentage and weeks until the end of lifetime, for all movies.\n",
    "* Plot the number of shows in the week versus occupancy percentage and weeks until the end of lifetime, for all movies."
   ]
  },
  {
   "cell_type": "code",
   "execution_count": null,
   "metadata": {},
   "outputs": [],
   "source": [
    "import pandas as pd\n",
    "import matplotlib.pyplot as plt\n",
    "\n",
    "data = pd.read_csv('/home/cupgreek/Documents/ML_Assignments/Data/CinemaData.csv')\n",
    "\n",
    "Occ = data.iloc[:,8:9]\n",
    "NumOfWeeks = data.iloc[:,12:13]\n",
    "\n",
    "temp = pd.concat([NumOfWeeks,Occ],axis = 1)\n",
    "x = temp['WeeksSinceRelease'].unique()\n",
    "x.sort()\n",
    "y = temp.groupby(by = 'WeeksSinceRelease').mean()\n",
    "plt.xlim(-1,37)\n",
    "plt.ylabel('Occupancy %')\n",
    "plt.xlabel('No.Of.Weeks since release')\n",
    "plt.plot(x,y)\n",
    "#plt.show()"
   ]
  },
  {
   "cell_type": "code",
   "execution_count": null,
   "metadata": {},
   "outputs": [],
   "source": [
    "OtherRelease = data.iloc[:,9:10]\n",
    "Lifetime = data.iloc[:,5:6]\n",
    "\n",
    "temp = pd.concat([OtherRelease,Occ],axis = 1)\n",
    "x = temp['OtherReleasesInWeek'].unique()\n",
    "x.sort()\n",
    "y = temp.groupby(by = 'OtherReleasesInWeek').mean()\n",
    "plt.ylabel('Occupancy %')\n",
    "plt.xlabel('OtherReleasesInWeek')\n",
    "plt.plot(x,y)\n",
    "plt.show()\n",
    "\n",
    "temp = pd.concat([OtherRelease,Lifetime],axis = 1)\n",
    "x = temp['OtherReleasesInWeek'].unique()\n",
    "x.sort()\n",
    "y = temp.groupby(by = 'OtherReleasesInWeek').mean()\n",
    "plt.ylabel('Lifetime')\n",
    "plt.xlabel('OtherReleasesInWeek')\n",
    "plt.plot(x,y)\n",
    "plt.show()\n"
   ]
  },
  {
   "cell_type": "code",
   "execution_count": null,
   "metadata": {
    "scrolled": false
   },
   "outputs": [],
   "source": [
    "ShowsInWeek = data.iloc[:,11:12]\n",
    "\n",
    "temp = pd.concat([ShowsInWeek,Occ],axis = 1)\n",
    "x = temp['ShowsInWeek'].unique()\n",
    "x.sort()\n",
    "y = temp.groupby(by = 'ShowsInWeek').mean()\n",
    "plt.ylabel('Occupancy %')\n",
    "plt.xlabel('ShowsInWeek')\n",
    "plt.scatter(x,y)\n",
    "plt.show()\n",
    "\n",
    "temp = pd.concat([ShowsInWeek,Lifetime],axis = 1)\n",
    "x = temp['ShowsInWeek'].unique()\n",
    "x.sort()\n",
    "y = temp.groupby(by = 'ShowsInWeek').mean()\n",
    "plt.ylabel('Lifetime')\n",
    "plt.xlabel('ShowsInWeek')\n",
    "plt.scatter(x,y)\n",
    "plt.show()\n"
   ]
  },
  {
   "cell_type": "markdown",
   "metadata": {},
   "source": [
    "# Task 2 - Reasoning\n",
    "Now that you have the plots, identify the correlation between the various parameters analysed. Justify the correlations, your observations, and your hypotheses for the same with appropriate reasoning."
   ]
  },
  {
   "cell_type": "code",
   "execution_count": null,
   "metadata": {},
   "outputs": [],
   "source": []
  }
 ],
 "metadata": {
  "kernelspec": {
   "display_name": "Python 3",
   "language": "python",
   "name": "python3"
  },
  "language_info": {
   "codemirror_mode": {
    "name": "ipython",
    "version": 3
   },
   "file_extension": ".py",
   "mimetype": "text/x-python",
   "name": "python",
   "nbconvert_exporter": "python",
   "pygments_lexer": "ipython3",
   "version": "3.7.4"
  }
 },
 "nbformat": 4,
 "nbformat_minor": 2
}
