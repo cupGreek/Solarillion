{
 "cells": [
  {
   "cell_type": "markdown",
   "metadata": {
    "colab_type": "text",
    "id": "yvRFuFBLrsac"
   },
   "source": [
    "# Machine Learning Basics\n",
    "In this module, you'll be implementing a simple Linear Regressor and Logistic Regressor. You will be using the Salary Data for the tasks in this module. <br> <br>\n",
    "**Pipeline:**\n",
    "* Acquiring the data - done\n",
    "* Handling files and formats - done\n",
    "* Data Analysis - done\n",
    "* Prediction\n",
    "* Analysing results"
   ]
  },
  {
   "cell_type": "markdown",
   "metadata": {
    "colab_type": "text",
    "id": "AwvgLLICtyt_"
   },
   "source": [
    "## Imports\n",
    "You may require NumPy, pandas, matplotlib and scikit-learn for this module. Do not, however, use the inbuilt Linear and Logistic Regressors from scikit-learn."
   ]
  },
  {
   "cell_type": "code",
   "execution_count": null,
   "metadata": {},
   "outputs": [],
   "source": [
    "import numpy as np\n",
    "import pandas as pd\n",
    "import matplotlib.pyplot as plt\n",
    "from sklearn.model_selection import train_test_split"
   ]
  },
  {
   "cell_type": "markdown",
   "metadata": {
    "colab_type": "text",
    "id": "yE5Sz6nKvjTS"
   },
   "source": [
    "## Dataset\n",
    "You can load the dataset and perform any dataset related operations here. Split the data into training and testing sets. Do this separately for the regression and classification problems."
   ]
  },
  {
   "cell_type": "code",
   "execution_count": null,
   "metadata": {},
   "outputs": [],
   "source": [
    "data = pd.read_csv('/home/cupgreek/Documents/ML_Assignments/Data/SalaryData.csv')"
   ]
  },
  {
   "cell_type": "markdown",
   "metadata": {
    "colab_type": "text",
    "id": "VienPTZA1ZEr"
   },
   "source": [
    "## Task 1a - Linear Regressor\n",
    "Code your own Linear Regressor here, and fit it to your training data. You will be predicting salary based on years of experience."
   ]
  },
  {
   "cell_type": "code",
   "execution_count": null,
   "metadata": {},
   "outputs": [],
   "source": [
    "def calc_coef(x, y): \n",
    "    size = np.size(x)  \n",
    "    mean_x, mean_y = np.mean(x), np.mean(y) \n",
    "    SS_xy = np.sum(y*x) - size*mean_y*mean_x \n",
    "    SS_xx = np.sum(x*x) - size*mean_x*mean_x  \n",
    "    b1 = SS_xy / SS_xx \n",
    "    b0 = mean_y - b1*mean_x \n",
    "    return(b0, b1) \n",
    "  \n",
    "def predict(x, y, b): \n",
    "    plt.scatter(x, y) \n",
    "    y_pred = b[0] + b[1]*x \n",
    "    plt.plot(x, y_pred, color = \"g\") \n",
    "    plt.xlabel('Years Of Experience') \n",
    "    plt.ylabel('Salary')  \n",
    "    plt.show()\n",
    "    \n",
    "x = np.array(data.iloc[:,0:1]) \n",
    "y = np.array(data.iloc[:,1:])\n",
    "\n",
    "x_train,x_test = train_test_split(x, test_size = 0.3,random_state = 2)\n",
    "y_train,y_test = train_test_split(y, test_size = 0.3, random_state = 2)\n",
    "\n",
    "b = calc_coef(x_train, y_train)\n",
    "predict(x_test, y_test, b) "
   ]
  },
  {
   "cell_type": "markdown",
   "metadata": {},
   "source": [
    "## Task 1b - Logistic Regression\n",
    "Code your own Logistic Regressor here, and fit it to your training data. You will first have to create a column, 'Salary<60000', which contains '1' if salary is less than 60000 and '0' otherwise. This is your target variable, which you will aim to predict based on years of experience."
   ]
  },
  {
   "cell_type": "code",
   "execution_count": null,
   "metadata": {},
   "outputs": [],
   "source": [
    "lst = []\n",
    "for i in data['Salary']:\n",
    "    if i > 60000:\n",
    "        lst.append(1)\n",
    "    else:\n",
    "        lst.append(0)\n",
    "        \n",
    "y = np.array(lst)\n",
    "x = np.array(data.iloc[:,0:1]) "
   ]
  },
  {
   "cell_type": "code",
   "execution_count": null,
   "metadata": {},
   "outputs": [],
   "source": [
    "import numpy as np\n",
    "import matplotlib.pyplot as plt\n",
    "import random\n",
    "\n",
    "x_train,x_test = train_test_split(x, test_size = 0.3,random_state = 2)\n",
    "y_train,y_test = train_test_split(y, test_size = 0.3,random_state = 2)\n",
    "\n",
    "one1 = np.ones((1,15))\n",
    "one2 = np.ones((1,15))\n",
    "\n",
    "x_train = np.append(one1,x_train)\n",
    "x_test = np.append(one2,x_test)\n",
    "\n",
    "x_train = x_train.reshape((2,-1))\n",
    "x_test = x_test.reshape((2,-1))"
   ]
  },
  {
   "cell_type": "code",
   "execution_count": null,
   "metadata": {},
   "outputs": [],
   "source": [
    "beta = np.array([0,random.randint(1,101)/100])\n",
    "for i in range(10000):\n",
    "    beta = beta.reshape((2,-1))\n",
    "    sig = 1.0/(1 + np.exp(-np.dot(beta.T, x_train)))\n",
    "    if np.dot((y_train-sig),(x_train.T)).all() <= 0:\n",
    "        break\n",
    "    else:\n",
    "        beta = beta + 0.5*np.dot((y_train-sig),(x_train.T)).T\n",
    "        \n",
    "y_pred = np.dot(beta.T,x_test)"
   ]
  },
  {
   "cell_type": "code",
   "execution_count": null,
   "metadata": {},
   "outputs": [],
   "source": [
    "lst = []\n",
    "for i in y_pred:\n",
    "    for j in i:\n",
    "        if j>0:\n",
    "            lst.append(1)\n",
    "        else:\n",
    "            lst.append(0)\n",
    "lst = np.array(lst)\n",
    "plt.scatter(x_test[1],y_test)"
   ]
  },
  {
   "cell_type": "code",
   "execution_count": null,
   "metadata": {},
   "outputs": [],
   "source": [
    "plt.scatter(x_test[1],lst)"
   ]
  },
  {
   "cell_type": "markdown",
   "metadata": {
    "colab_type": "text",
    "id": "vaCu6RS52qYf"
   },
   "source": [
    "## Task 2 - Results\n",
    "Analyse the quality of the ML models you built using metrics such as R2, MAE and RMSE for the Linear Regressor, and Accuracy for the Logistic Regressor. Evaluate their performance on the testing set."
   ]
  },
  {
   "cell_type": "code",
   "execution_count": null,
   "metadata": {},
   "outputs": [],
   "source": []
  }
 ],
 "metadata": {
  "colab": {
   "name": "Untitled15.ipynb",
   "provenance": [],
   "version": "0.3.2"
  },
  "kernelspec": {
   "display_name": "Python 3",
   "language": "python",
   "name": "python3"
  },
  "language_info": {
   "codemirror_mode": {
    "name": "ipython",
    "version": 3
   },
   "file_extension": ".py",
   "mimetype": "text/x-python",
   "name": "python",
   "nbconvert_exporter": "python",
   "pygments_lexer": "ipython3",
   "version": "3.7.4"
  }
 },
 "nbformat": 4,
 "nbformat_minor": 1
}
