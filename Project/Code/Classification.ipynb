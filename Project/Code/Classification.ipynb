{
 "cells": [
  {
   "cell_type": "markdown",
   "metadata": {},
   "source": [
    "# Importing Libraries\n"
   ]
  },
  {
   "cell_type": "code",
   "execution_count": 1,
   "metadata": {},
   "outputs": [
    {
     "name": "stderr",
     "output_type": "stream",
     "text": [
      "Using TensorFlow backend.\n"
     ]
    }
   ],
   "source": [
    "import numpy as np\n",
    "import pandas as pd\n",
    "import matplotlib.pyplot as plt\n",
    "\n",
    "from sklearn.model_selection import train_test_split\n",
    "\n",
    "from xgboost import XGBClassifier\n",
    "from sklearn.ensemble import ExtraTreesClassifier, RandomForestClassifier\n",
    "\n",
    "from sklearn.metrics import classification_report, confusion_matrix\n",
    "\n",
    "from imblearn.under_sampling import RandomUnderSampler\n",
    "from imblearn.over_sampling import RandomOverSampler, SMOTE"
   ]
  },
  {
   "cell_type": "markdown",
   "metadata": {},
   "source": [
    "# Preprocessing"
   ]
  },
  {
   "cell_type": "code",
   "execution_count": 2,
   "metadata": {},
   "outputs": [],
   "source": [
    "flight_data = pd.read_csv('/home/cupgreek/Documents/flight_details(without NaN).csv')\n",
    "flight_data['ArrTime'] = flight_data['ArrTime'] - flight_data['ArrTime']%100"
   ]
  },
  {
   "cell_type": "code",
   "execution_count": 3,
   "metadata": {},
   "outputs": [],
   "source": [
    "weather_data = pd.read_csv('/home/cupgreek/Documents/weather_data.csv')"
   ]
  },
  {
   "cell_type": "code",
   "execution_count": 4,
   "metadata": {},
   "outputs": [],
   "source": [
    "dataset = flight_data.merge(right = weather_data, left_on = ['FlightDate','Dest','ArrTime'], right_on = ['FlightDate','airport','time'], validate = 'm:m', how = 'inner')\n",
    "dataset = dataset.drop(columns = ['FlightDate', 'Origin', 'ArrTime', 'Dest', 'DepTime', 'time', 'airport'])"
   ]
  },
  {
   "cell_type": "code",
   "execution_count": 31,
   "metadata": {},
   "outputs": [],
   "source": [
    "X = dataset.iloc[:,3:].values\n",
    "y = dataset.iloc[:,0].values"
   ]
  },
  {
   "cell_type": "code",
   "execution_count": 32,
   "metadata": {},
   "outputs": [],
   "source": [
    "X_train, X_test, y_train, y_test= train_test_split(X, y, test_size = 0.25)"
   ]
  },
  {
   "cell_type": "markdown",
   "metadata": {},
   "source": [
    "# Sampling"
   ]
  },
  {
   "cell_type": "code",
   "execution_count": 7,
   "metadata": {},
   "outputs": [],
   "source": [
    "rus = RandomUnderSampler()\n",
    "X_train, y_train = rus.fit_resample(X_train, y_train)"
   ]
  },
  {
   "cell_type": "code",
   "execution_count": 12,
   "metadata": {},
   "outputs": [],
   "source": [
    "ros = RandomOverSampler()\n",
    "X_train, y_train = ros.fit_resample(X_train, y_train)"
   ]
  },
  {
   "cell_type": "code",
   "execution_count": 35,
   "metadata": {},
   "outputs": [],
   "source": [
    "smote = SMOTE()\n",
    "X_train, y_train = smote.fit_resample(X_train, y_train)"
   ]
  },
  {
   "cell_type": "markdown",
   "metadata": {},
   "source": [
    "# Classifiers"
   ]
  },
  {
   "cell_type": "code",
   "execution_count": 36,
   "metadata": {},
   "outputs": [],
   "source": [
    "#XGBoost Classifier\n",
    "\n",
    "xgb_classifier = XGBClassifier()\n",
    "xgb_classifier.fit(X_train, y_train)\n",
    "\n",
    "y_pred_xgb = xgb_classifier.predict(X_test)"
   ]
  },
  {
   "cell_type": "code",
   "execution_count": 38,
   "metadata": {},
   "outputs": [
    {
     "name": "stderr",
     "output_type": "stream",
     "text": [
      "/home/cupgreek/Documents/anaconda3/lib/python3.7/site-packages/sklearn/ensemble/forest.py:245: FutureWarning: The default value of n_estimators will change from 10 in version 0.20 to 100 in 0.22.\n",
      "  \"10 in version 0.20 to 100 in 0.22.\", FutureWarning)\n"
     ]
    }
   ],
   "source": [
    "#ExtraTree Classifier\n",
    "\n",
    "et_classifier = ExtraTreesClassifier()\n",
    "et_classifier.fit(X_train, y_train)\n",
    "\n",
    "y_pred_et = et_classifier.predict(X_test)"
   ]
  },
  {
   "cell_type": "code",
   "execution_count": 39,
   "metadata": {},
   "outputs": [
    {
     "name": "stderr",
     "output_type": "stream",
     "text": [
      "/home/cupgreek/Documents/anaconda3/lib/python3.7/site-packages/sklearn/ensemble/forest.py:245: FutureWarning: The default value of n_estimators will change from 10 in version 0.20 to 100 in 0.22.\n",
      "  \"10 in version 0.20 to 100 in 0.22.\", FutureWarning)\n"
     ]
    }
   ],
   "source": [
    "#RandomForest Classifier\n",
    "\n",
    "rf_classifier = RandomForestClassifier()\n",
    "rf_classifier.fit(X_train, y_train)\n",
    "\n",
    "y_pred_rf = rf_classifier.predict(X_test)"
   ]
  },
  {
   "cell_type": "markdown",
   "metadata": {},
   "source": [
    "# Report"
   ]
  },
  {
   "cell_type": "code",
   "execution_count": 41,
   "metadata": {},
   "outputs": [
    {
     "name": "stdout",
     "output_type": "stream",
     "text": [
      "XGB Classifier\n",
      "               precision    recall  f1-score   support\n",
      "\n",
      "         0.0       0.82      0.76      0.79    365138\n",
      "         1.0       0.29      0.37      0.33     97483\n",
      "\n",
      "    accuracy                           0.68    462621\n",
      "   macro avg       0.56      0.57      0.56    462621\n",
      "weighted avg       0.71      0.68      0.69    462621\n",
      "\n",
      "\n",
      "\n",
      "RandomForest Classifier\n",
      "               precision    recall  f1-score   support\n",
      "\n",
      "         0.0       0.85      0.84      0.84    365138\n",
      "         1.0       0.42      0.43      0.42     97483\n",
      "\n",
      "    accuracy                           0.75    462621\n",
      "   macro avg       0.63      0.63      0.63    462621\n",
      "weighted avg       0.76      0.75      0.75    462621\n",
      "\n",
      "\n",
      "\n",
      "ExtraTrees Classifier\n",
      "               precision    recall  f1-score   support\n",
      "\n",
      "         0.0       0.85      0.85      0.85    365138\n",
      "         1.0       0.43      0.41      0.42     97483\n",
      "\n",
      "    accuracy                           0.76    462621\n",
      "   macro avg       0.64      0.63      0.64    462621\n",
      "weighted avg       0.76      0.76      0.76    462621\n",
      "\n"
     ]
    }
   ],
   "source": [
    "print('XGB Classifier\\n',\n",
    "      classification_report(y_test, y_pred_xgb))\n",
    "\n",
    "print('\\n\\nRandomForest Classifier\\n',\n",
    "      classification_report(y_test, y_pred_rf))\n",
    "\n",
    "print('\\n\\nExtraTrees Classifier\\n',\n",
    "      classification_report(y_test, y_pred_et))"
   ]
  }
 ],
 "metadata": {
  "kernelspec": {
   "display_name": "Python 3",
   "language": "python",
   "name": "python3"
  },
  "language_info": {
   "codemirror_mode": {
    "name": "ipython",
    "version": 3
   },
   "file_extension": ".py",
   "mimetype": "text/x-python",
   "name": "python",
   "nbconvert_exporter": "python",
   "pygments_lexer": "ipython3",
   "version": "3.7.5"
  }
 },
 "nbformat": 4,
 "nbformat_minor": 2
}
