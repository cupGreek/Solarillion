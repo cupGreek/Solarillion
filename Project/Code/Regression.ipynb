{
 "cells": [
  {
   "cell_type": "markdown",
   "metadata": {},
   "source": [
    "# Importing Libraries"
   ]
  },
  {
   "cell_type": "code",
   "execution_count": 1,
   "metadata": {},
   "outputs": [],
   "source": [
    "import numpy as np\n",
    "import pandas as pd\n",
    "import matplotlib.pyplot as plt\n",
    "\n",
    "from sklearn.model_selection import train_test_split\n",
    "\n",
    "from sklearn.ensemble import RandomForestRegressor, ExtraTreesRegressor\n",
    "from xgboost import XGBRegressor\n",
    "\n",
    "from sklearn.metrics import explained_variance_score, r2_score, mean_squared_error\n",
    "from math import sqrt"
   ]
  },
  {
   "cell_type": "markdown",
   "metadata": {},
   "source": [
    "# Data Preprocessing"
   ]
  },
  {
   "cell_type": "code",
   "execution_count": 2,
   "metadata": {},
   "outputs": [],
   "source": [
    "flight_data = pd.read_csv('/home/cupgreek/Documents/flight_details(without NaN).csv')\n",
    "weather_data = pd.read_csv('/home/cupgreek/Documents/weather_data.csv')"
   ]
  },
  {
   "cell_type": "code",
   "execution_count": 3,
   "metadata": {},
   "outputs": [],
   "source": [
    "flight_data['ArrTime'] = flight_data['ArrTime'] - flight_data['ArrTime']%100"
   ]
  },
  {
   "cell_type": "code",
   "execution_count": 4,
   "metadata": {},
   "outputs": [],
   "source": [
    "dataset = flight_data.merge(right = weather_data, left_on = ['FlightDate','Dest','ArrTime'], right_on = ['FlightDate','airport','time'], validate = 'm:m', how = 'inner')"
   ]
  },
  {
   "cell_type": "code",
   "execution_count": 5,
   "metadata": {},
   "outputs": [],
   "source": [
    "dataset = dataset.drop(columns = ['FlightDate', 'Origin', 'ArrTime', 'Dest', 'DepTime', 'time', 'airport'])\n",
    "dataset = dataset[dataset['ArrDel15'].isin([1])]"
   ]
  },
  {
   "cell_type": "code",
   "execution_count": 6,
   "metadata": {},
   "outputs": [],
   "source": [
    "X = dataset.iloc[:,2:].values\n",
    "y = dataset.iloc[:,1].values"
   ]
  },
  {
   "cell_type": "code",
   "execution_count": 7,
   "metadata": {},
   "outputs": [],
   "source": [
    "X_train, X_test, y_train, y_test= train_test_split(X, y, test_size = 0.25)"
   ]
  },
  {
   "cell_type": "markdown",
   "metadata": {},
   "source": [
    "# Regressors"
   ]
  },
  {
   "cell_type": "code",
   "execution_count": 18,
   "metadata": {},
   "outputs": [],
   "source": [
    "#RandomForest Regressor\n",
    "rf_regressor = RandomForestRegressor(n_estimators = 10)\n",
    "rf_regressor.fit(X_train, y_train)\n",
    "\n",
    "y_pred_rf = rf_regressor.predict(X_test)"
   ]
  },
  {
   "cell_type": "code",
   "execution_count": 9,
   "metadata": {},
   "outputs": [
    {
     "name": "stdout",
     "output_type": "stream",
     "text": [
      "[15:13:36] WARNING: /workspace/src/objective/regression_obj.cu:152: reg:linear is now deprecated in favor of reg:squarederror.\n"
     ]
    }
   ],
   "source": [
    "#DecisionTree Regressor\n",
    "xgb_regressor = XGBRegressor()\n",
    "xgb_regressor.fit(X_train, y_train)\n",
    "\n",
    "y_pred_xgb = xgb_regressor.predict(X_test)"
   ]
  },
  {
   "cell_type": "code",
   "execution_count": 19,
   "metadata": {},
   "outputs": [],
   "source": [
    "#ExtraTrees Regressor\n",
    "et_regressor = ExtraTreesRegressor(n_estimators = 10)\n",
    "et_regressor.fit(X_train, y_train)\n",
    "\n",
    "y_pred_et = et_regressor.predict(X_test)"
   ]
  },
  {
   "cell_type": "markdown",
   "metadata": {},
   "source": [
    "# Report"
   ]
  },
  {
   "cell_type": "code",
   "execution_count": 20,
   "metadata": {},
   "outputs": [
    {
     "name": "stdout",
     "output_type": "stream",
     "text": [
      "XGB Regressor \n",
      "\tExplained Varience:  0.9466090887201216 \n",
      "\tR-squared:\t     0.9466090766348108 \n",
      "\tMean Squared Error:  288.88783399879617 \n",
      "\tRMSE:\t\t     16.996700679802423\n",
      "\n",
      "RandomForest Regressor \n",
      "\tExplained Varience:  0.9391779402911382 \n",
      "\tR-squared:\t     0.9390006919040605 \n",
      "\tMean Squared Error:  330.0553142849492 \n",
      "\tRMSE:\t\t     18.167424536376895\n",
      "\n",
      "ExtraTrees Regressor \n",
      "\tExplained Varience:  0.9380376123372746 \n",
      "\tR-squared:\t     0.9378924161218823 \n",
      "\tMean Squared Error:  336.05197757539014 \n",
      "\tRMSE:\t\t     18.331720529600872\n"
     ]
    }
   ],
   "source": [
    "print(\"XGB Regressor\",\n",
    "      \"\\n\\tExplained Varience: \", explained_variance_score(y_test, y_pred_xgb), \n",
    "      '\\n\\tR-squared:\\t    ', r2_score(y_test, y_pred_xgb),\n",
    "      '\\n\\tMean Squared Error: ', mean_squared_error(y_test, y_pred_xgb), \n",
    "      '\\n\\tRMSE:\\t\\t    ', sqrt(mean_squared_error(y_test, y_pred_xgb)))\n",
    "\n",
    "print(\"\\nRandomForest Regressor\",\n",
    "      \"\\n\\tExplained Varience: \", explained_variance_score(y_test, y_pred_rf), \n",
    "      '\\n\\tR-squared:\\t    ', r2_score(y_test, y_pred_rf),\n",
    "      '\\n\\tMean Squared Error: ', mean_squared_error(y_test, y_pred_rf), \n",
    "      '\\n\\tRMSE:\\t\\t    ', sqrt(mean_squared_error(y_test, y_pred_rf)))\n",
    "\n",
    "print(\"\\nExtraTrees Regressor\",\n",
    "      \"\\n\\tExplained Varience: \", explained_variance_score(y_test, y_pred_et), \n",
    "      '\\n\\tR-squared:\\t    ', r2_score(y_test, y_pred_et),\n",
    "      '\\n\\tMean Squared Error: ', mean_squared_error(y_test, y_pred_et), \n",
    "      '\\n\\tRMSE:\\t\\t    ', sqrt(mean_squared_error(y_test, y_pred_et)))"
   ]
  }
 ],
 "metadata": {
  "kernelspec": {
   "display_name": "Python 3",
   "language": "python",
   "name": "python3"
  },
  "language_info": {
   "codemirror_mode": {
    "name": "ipython",
    "version": 3
   },
   "file_extension": ".py",
   "mimetype": "text/x-python",
   "name": "python",
   "nbconvert_exporter": "python",
   "pygments_lexer": "ipython3",
   "version": "3.7.5"
  }
 },
 "nbformat": 4,
 "nbformat_minor": 2
}
